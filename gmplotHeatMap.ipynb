{
 "cells": [
  {
   "cell_type": "markdown",
   "metadata": {},
   "source": [
    "# Visualizing Service Data\n",
    "\n",
    "---\n",
    "Create a geographic heatmap of service data. Use to visually determine where patients are coming from."
   ]
  },
  {
   "cell_type": "markdown",
   "metadata": {},
   "source": [
    "### Import libraries"
   ]
  },
  {
   "cell_type": "code",
   "execution_count": 1,
   "metadata": {},
   "outputs": [],
   "source": [
    "import pandas as pd\n",
    "import gmplot\n",
    "from IPython.display import display"
   ]
  },
  {
   "cell_type": "markdown",
   "metadata": {},
   "source": [
    "### Read the data"
   ]
  },
  {
   "cell_type": "code",
   "execution_count": 2,
   "metadata": {},
   "outputs": [],
   "source": [
    "raw_data = pd.read_csv(\"combined.csv\", index_col=0)"
   ]
  },
  {
   "cell_type": "markdown",
   "metadata": {},
   "source": [
    "### Check data"
   ]
  },
  {
   "cell_type": "code",
   "execution_count": 3,
   "metadata": {},
   "outputs": [
    {
     "data": {
      "text/html": [
       "<div>\n",
       "<style scoped>\n",
       "    .dataframe tbody tr th:only-of-type {\n",
       "        vertical-align: middle;\n",
       "    }\n",
       "\n",
       "    .dataframe tbody tr th {\n",
       "        vertical-align: top;\n",
       "    }\n",
       "\n",
       "    .dataframe thead th {\n",
       "        text-align: right;\n",
       "    }\n",
       "</style>\n",
       "<table border=\"1\" class=\"dataframe\">\n",
       "  <thead>\n",
       "    <tr style=\"text-align: right;\">\n",
       "      <th></th>\n",
       "      <th>lat</th>\n",
       "      <th>long</th>\n",
       "      <th>DOS</th>\n",
       "    </tr>\n",
       "  </thead>\n",
       "  <tbody>\n",
       "    <tr>\n",
       "      <th>0</th>\n",
       "      <td>33.024321</td>\n",
       "      <td>-96.674504</td>\n",
       "      <td>1</td>\n",
       "    </tr>\n",
       "    <tr>\n",
       "      <th>1</th>\n",
       "      <td>33.361596</td>\n",
       "      <td>-79.896880</td>\n",
       "      <td>7</td>\n",
       "    </tr>\n",
       "    <tr>\n",
       "      <th>2</th>\n",
       "      <td>33.594176</td>\n",
       "      <td>-117.573064</td>\n",
       "      <td>2</td>\n",
       "    </tr>\n",
       "    <tr>\n",
       "      <th>3</th>\n",
       "      <td>34.058126</td>\n",
       "      <td>-101.934807</td>\n",
       "      <td>2</td>\n",
       "    </tr>\n",
       "    <tr>\n",
       "      <th>4</th>\n",
       "      <td>36.125926</td>\n",
       "      <td>-83.826088</td>\n",
       "      <td>1</td>\n",
       "    </tr>\n",
       "  </tbody>\n",
       "</table>\n",
       "</div>"
      ],
      "text/plain": [
       "         lat        long  DOS\n",
       "0  33.024321  -96.674504    1\n",
       "1  33.361596  -79.896880    7\n",
       "2  33.594176 -117.573064    2\n",
       "3  34.058126 -101.934807    2\n",
       "4  36.125926  -83.826088    1"
      ]
     },
     "metadata": {},
     "output_type": "display_data"
    },
    {
     "name": "stdout",
     "output_type": "stream",
     "text": [
      "<class 'pandas.core.frame.DataFrame'>\n",
      "RangeIndex: 285 entries, 0 to 284\n",
      "Data columns (total 3 columns):\n",
      "lat     285 non-null float64\n",
      "long    285 non-null float64\n",
      "DOS     285 non-null int64\n",
      "dtypes: float64(2), int64(1)\n",
      "memory usage: 6.8 KB\n"
     ]
    },
    {
     "data": {
      "text/plain": [
       "None"
      ]
     },
     "metadata": {},
     "output_type": "display_data"
    },
    {
     "data": {
      "text/plain": [
       "count    285.000000\n",
       "mean      43.216420\n",
       "std        2.060396\n",
       "min       33.024321\n",
       "25%       42.158778\n",
       "50%       42.864477\n",
       "75%       44.706714\n",
       "max       47.394698\n",
       "Name: lat, dtype: float64"
      ]
     },
     "metadata": {},
     "output_type": "display_data"
    },
    {
     "data": {
      "text/plain": [
       "count    285.000000\n",
       "mean     -85.151526\n",
       "std        2.818986\n",
       "min     -117.573064\n",
       "25%      -85.746155\n",
       "50%      -84.752448\n",
       "75%      -83.735851\n",
       "max      -73.762495\n",
       "Name: long, dtype: float64"
      ]
     },
     "metadata": {},
     "output_type": "display_data"
    }
   ],
   "source": [
    "# Create coordinates for latitude and longitude\n",
    "raw_data['coordinates'] = list(zip(raw_data.lat, raw_data.long))\n",
    "raw_data['coordinates'].head(5)\n",
    "\n",
    "# Aggregate the data based on coordinates. Grab a random variable for count\n",
    "aggregated = raw_data.groupby(['lat','long']).count()[\"DOS\"]\n",
    "aggregated = aggregated.reset_index()\n",
    "\n",
    "# Check the first 5 rows\n",
    "display(aggregated.head(n=5))\n",
    "display(aggregated.info())\n",
    "\n",
    "# Calculate the mean of latitude and longitude\n",
    "display(aggregated['lat'].describe())\n",
    "display(aggregated['long'].describe())"
   ]
  },
  {
   "cell_type": "markdown",
   "metadata": {},
   "source": [
    "### Create the map"
   ]
  },
  {
   "cell_type": "code",
   "execution_count": 4,
   "metadata": {},
   "outputs": [],
   "source": [
    "# Fetch map, center around point of interest\n",
    "gmap = gmplot.GoogleMapPlotter(43.0, -85.0, 6)\n",
    "\n",
    "# Overlay our datapoints onto the map\n",
    "gmap.heatmap(lats=aggregated['lat'], \\\n",
    "             lngs=aggregated['long'], \\\n",
    "             threshold=10, \\\n",
    "             radius=10, \\\n",
    "             gradient=None, \\\n",
    "             opacity=0.7, \\\n",
    "             dissipating=True \\\n",
    "             )"
   ]
  },
  {
   "cell_type": "markdown",
   "metadata": {},
   "source": [
    "### Generate the map"
   ]
  },
  {
   "cell_type": "code",
   "execution_count": 5,
   "metadata": {},
   "outputs": [],
   "source": [
    "gmap.draw(\"mymap.html\")"
   ]
  }
 ],
 "metadata": {
  "kernelspec": {
   "display_name": "Python 3",
   "language": "python",
   "name": "python3"
  },
  "language_info": {
   "codemirror_mode": {
    "name": "ipython",
    "version": 3
   },
   "file_extension": ".py",
   "mimetype": "text/x-python",
   "name": "python",
   "nbconvert_exporter": "python",
   "pygments_lexer": "ipython3",
   "version": "3.6.5"
  }
 },
 "nbformat": 4,
 "nbformat_minor": 2
}
